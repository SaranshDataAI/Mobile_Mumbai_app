{
 "cells": [
  {
   "cell_type": "markdown",
   "id": "51b2e56d",
   "metadata": {},
   "source": [
    "# <span style=\"color:gold;\">Mumbai House Price Prediction Model</span>"
   ]
  },
  {
   "cell_type": "code",
   "execution_count": 13,
   "id": "c3fa118a",
   "metadata": {},
   "outputs": [],
   "source": [
    "import pandas as pd\n",
    "import numpy as np\n",
    "import matplotlib.pyplot as plt\n",
    "%matplotlib inline\n",
    "import seaborn as sns"
   ]
  },
  {
   "cell_type": "code",
   "execution_count": 14,
   "id": "cf01e6f3",
   "metadata": {},
   "outputs": [],
   "source": [
    "df = pd.read_csv('Mumbai.csv',encoding='unicode_escape')"
   ]
  },
  {
   "cell_type": "markdown",
   "id": "b77e7191",
   "metadata": {},
   "source": [
    "### <span style=\"color:lightgreen;\">Data Cleaning and Preprocessing</span>"
   ]
  },
  {
   "cell_type": "code",
   "execution_count": 15,
   "id": "66c6b614",
   "metadata": {},
   "outputs": [
    {
     "data": {
      "text/html": [
       "<div>\n",
       "<style scoped>\n",
       "    .dataframe tbody tr th:only-of-type {\n",
       "        vertical-align: middle;\n",
       "    }\n",
       "\n",
       "    .dataframe tbody tr th {\n",
       "        vertical-align: top;\n",
       "    }\n",
       "\n",
       "    .dataframe thead th {\n",
       "        text-align: right;\n",
       "    }\n",
       "</style>\n",
       "<table border=\"1\" class=\"dataframe\">\n",
       "  <thead>\n",
       "    <tr style=\"text-align: right;\">\n",
       "      <th></th>\n",
       "      <th>Unnamed: 0</th>\n",
       "      <th>price</th>\n",
       "      <th>sqrt</th>\n",
       "      <th>location</th>\n",
       "      <th>bhk</th>\n",
       "      <th>New/Resale</th>\n",
       "      <th>Gymnasium</th>\n",
       "      <th>Lift Available</th>\n",
       "      <th>CarParking</th>\n",
       "      <th>Maintenance Staff</th>\n",
       "      <th>24x7 Security</th>\n",
       "      <th>Children's Play Area</th>\n",
       "      <th>Clubhouse</th>\n",
       "      <th>Intercom</th>\n",
       "      <th>Landscaped Gardens</th>\n",
       "      <th>Indoor Games</th>\n",
       "      <th>Gas Connection</th>\n",
       "      <th>Jogging Track</th>\n",
       "      <th>Swimming Pool</th>\n",
       "    </tr>\n",
       "  </thead>\n",
       "  <tbody>\n",
       "    <tr>\n",
       "      <th>0</th>\n",
       "      <td>0</td>\n",
       "      <td>4850000</td>\n",
       "      <td>720</td>\n",
       "      <td>Kharghar</td>\n",
       "      <td>1</td>\n",
       "      <td>0</td>\n",
       "      <td>0</td>\n",
       "      <td>1</td>\n",
       "      <td>1</td>\n",
       "      <td>1</td>\n",
       "      <td>1</td>\n",
       "      <td>0</td>\n",
       "      <td>0</td>\n",
       "      <td>0</td>\n",
       "      <td>0</td>\n",
       "      <td>0</td>\n",
       "      <td>0</td>\n",
       "      <td>0</td>\n",
       "      <td>0</td>\n",
       "    </tr>\n",
       "    <tr>\n",
       "      <th>1</th>\n",
       "      <td>1</td>\n",
       "      <td>4500000</td>\n",
       "      <td>600</td>\n",
       "      <td>Kharghar</td>\n",
       "      <td>1</td>\n",
       "      <td>0</td>\n",
       "      <td>1</td>\n",
       "      <td>1</td>\n",
       "      <td>1</td>\n",
       "      <td>1</td>\n",
       "      <td>1</td>\n",
       "      <td>0</td>\n",
       "      <td>1</td>\n",
       "      <td>0</td>\n",
       "      <td>0</td>\n",
       "      <td>0</td>\n",
       "      <td>0</td>\n",
       "      <td>1</td>\n",
       "      <td>1</td>\n",
       "    </tr>\n",
       "    <tr>\n",
       "      <th>2</th>\n",
       "      <td>2</td>\n",
       "      <td>6700000</td>\n",
       "      <td>650</td>\n",
       "      <td>Kharghar</td>\n",
       "      <td>1</td>\n",
       "      <td>0</td>\n",
       "      <td>1</td>\n",
       "      <td>1</td>\n",
       "      <td>1</td>\n",
       "      <td>1</td>\n",
       "      <td>1</td>\n",
       "      <td>1</td>\n",
       "      <td>1</td>\n",
       "      <td>1</td>\n",
       "      <td>0</td>\n",
       "      <td>0</td>\n",
       "      <td>0</td>\n",
       "      <td>1</td>\n",
       "      <td>1</td>\n",
       "    </tr>\n",
       "    <tr>\n",
       "      <th>3</th>\n",
       "      <td>3</td>\n",
       "      <td>4500000</td>\n",
       "      <td>650</td>\n",
       "      <td>Kharghar</td>\n",
       "      <td>1</td>\n",
       "      <td>0</td>\n",
       "      <td>0</td>\n",
       "      <td>1</td>\n",
       "      <td>1</td>\n",
       "      <td>1</td>\n",
       "      <td>1</td>\n",
       "      <td>0</td>\n",
       "      <td>0</td>\n",
       "      <td>1</td>\n",
       "      <td>1</td>\n",
       "      <td>0</td>\n",
       "      <td>0</td>\n",
       "      <td>0</td>\n",
       "      <td>0</td>\n",
       "    </tr>\n",
       "    <tr>\n",
       "      <th>4</th>\n",
       "      <td>4</td>\n",
       "      <td>5000000</td>\n",
       "      <td>665</td>\n",
       "      <td>Kharghar</td>\n",
       "      <td>1</td>\n",
       "      <td>0</td>\n",
       "      <td>0</td>\n",
       "      <td>1</td>\n",
       "      <td>1</td>\n",
       "      <td>1</td>\n",
       "      <td>1</td>\n",
       "      <td>0</td>\n",
       "      <td>0</td>\n",
       "      <td>1</td>\n",
       "      <td>1</td>\n",
       "      <td>0</td>\n",
       "      <td>0</td>\n",
       "      <td>0</td>\n",
       "      <td>0</td>\n",
       "    </tr>\n",
       "  </tbody>\n",
       "</table>\n",
       "</div>"
      ],
      "text/plain": [
       "   Unnamed: 0    price  sqrt  location  bhk  New/Resale  Gymnasium  \\\n",
       "0           0  4850000   720  Kharghar    1           0          0   \n",
       "1           1  4500000   600  Kharghar    1           0          1   \n",
       "2           2  6700000   650  Kharghar    1           0          1   \n",
       "3           3  4500000   650  Kharghar    1           0          0   \n",
       "4           4  5000000   665  Kharghar    1           0          0   \n",
       "\n",
       "   Lift Available  CarParking  Maintenance Staff  24x7 Security  \\\n",
       "0               1           1                  1              1   \n",
       "1               1           1                  1              1   \n",
       "2               1           1                  1              1   \n",
       "3               1           1                  1              1   \n",
       "4               1           1                  1              1   \n",
       "\n",
       "   Children's Play Area  Clubhouse  Intercom  Landscaped Gardens  \\\n",
       "0                     0          0         0                   0   \n",
       "1                     0          1         0                   0   \n",
       "2                     1          1         1                   0   \n",
       "3                     0          0         1                   1   \n",
       "4                     0          0         1                   1   \n",
       "\n",
       "   Indoor Games  Gas Connection  Jogging Track  Swimming Pool  \n",
       "0             0               0              0              0  \n",
       "1             0               0              1              1  \n",
       "2             0               0              1              1  \n",
       "3             0               0              0              0  \n",
       "4             0               0              0              0  "
      ]
     },
     "execution_count": 15,
     "metadata": {},
     "output_type": "execute_result"
    }
   ],
   "source": [
    "df.head(5)"
   ]
  },
  {
   "cell_type": "code",
   "execution_count": 16,
   "id": "48e0f41f",
   "metadata": {},
   "outputs": [
    {
     "name": "stdout",
     "output_type": "stream",
     "text": [
      "<class 'pandas.core.frame.DataFrame'>\n",
      "RangeIndex: 6347 entries, 0 to 6346\n",
      "Data columns (total 19 columns):\n",
      " #   Column                Non-Null Count  Dtype \n",
      "---  ------                --------------  ----- \n",
      " 0   Unnamed: 0            6347 non-null   int64 \n",
      " 1   price                 6347 non-null   int64 \n",
      " 2   sqrt                  6347 non-null   int64 \n",
      " 3   location              6347 non-null   object\n",
      " 4   bhk                   6347 non-null   int64 \n",
      " 5   New/Resale            6347 non-null   int64 \n",
      " 6   Gymnasium             6347 non-null   int64 \n",
      " 7   Lift Available        6347 non-null   int64 \n",
      " 8   CarParking            6347 non-null   int64 \n",
      " 9   Maintenance Staff     6347 non-null   int64 \n",
      " 10  24x7 Security         6347 non-null   int64 \n",
      " 11  Children's Play Area  6347 non-null   int64 \n",
      " 12  Clubhouse             6347 non-null   int64 \n",
      " 13  Intercom              6347 non-null   int64 \n",
      " 14  Landscaped Gardens    6347 non-null   int64 \n",
      " 15  Indoor Games          6347 non-null   int64 \n",
      " 16  Gas Connection        6347 non-null   int64 \n",
      " 17  Jogging Track         6347 non-null   int64 \n",
      " 18  Swimming Pool         6347 non-null   int64 \n",
      "dtypes: int64(18), object(1)\n",
      "memory usage: 942.3+ KB\n"
     ]
    }
   ],
   "source": [
    "df.info()"
   ]
  },
  {
   "cell_type": "code",
   "execution_count": 17,
   "id": "045f982d",
   "metadata": {},
   "outputs": [
    {
     "data": {
      "text/plain": [
       "Unnamed: 0              0\n",
       "price                   0\n",
       "sqrt                    0\n",
       "location                0\n",
       "bhk                     0\n",
       "New/Resale              0\n",
       "Gymnasium               0\n",
       "Lift Available          0\n",
       "CarParking              0\n",
       "Maintenance Staff       0\n",
       "24x7 Security           0\n",
       "Children's Play Area    0\n",
       "Clubhouse               0\n",
       "Intercom                0\n",
       "Landscaped Gardens      0\n",
       "Indoor Games            0\n",
       "Gas Connection          0\n",
       "Jogging Track           0\n",
       "Swimming Pool           0\n",
       "dtype: int64"
      ]
     },
     "execution_count": 17,
     "metadata": {},
     "output_type": "execute_result"
    }
   ],
   "source": [
    "df.isnull().sum()"
   ]
  },
  {
   "cell_type": "code",
   "execution_count": 18,
   "id": "539a5fae",
   "metadata": {},
   "outputs": [],
   "source": [
    "# Select only numeric columns for correlation calculation\n",
    "numeric_df = df.select_dtypes(include=[np.number])\n",
    "corr_matrix = numeric_df.corr()"
   ]
  },
  {
   "cell_type": "code",
   "execution_count": 19,
   "id": "1b7e3161",
   "metadata": {},
   "outputs": [
    {
     "data": {
      "text/plain": [
       "price                   1.000000\n",
       "sqrt                    0.722336\n",
       "bhk                     0.594865\n",
       "Swimming Pool           0.123902\n",
       "Indoor Games            0.122352\n",
       "Gas Connection          0.118245\n",
       "Gymnasium               0.098097\n",
       "Clubhouse               0.084775\n",
       "Lift Available          0.083656\n",
       "Landscaped Gardens      0.082225\n",
       "Intercom                0.063060\n",
       "CarParking              0.055221\n",
       "Children's Play Area    0.045126\n",
       "24x7 Security           0.045107\n",
       "Jogging Track           0.042325\n",
       "New/Resale              0.032428\n",
       "Maintenance Staff       0.027604\n",
       "Unnamed: 0             -0.074733\n",
       "Name: price, dtype: float64"
      ]
     },
     "execution_count": 19,
     "metadata": {},
     "output_type": "execute_result"
    }
   ],
   "source": [
    "corr_matrix['price'].sort_values(ascending=False)"
   ]
  },
  {
   "cell_type": "code",
   "execution_count": 20,
   "id": "612e555c",
   "metadata": {},
   "outputs": [],
   "source": [
    "df.drop(columns=['Unnamed: 0'], inplace=True)"
   ]
  },
  {
   "cell_type": "code",
   "execution_count": 22,
   "id": "1a31f71c",
   "metadata": {},
   "outputs": [],
   "source": [
    "# After filtering top 20 locations and one-hot encoding\n",
    "df['price_per_sqft'] = df['price'] / df['sqrt']\n",
    "\n",
    "features = [\n",
    "    'sqrt', 'bhk', 'New/Resale', 'Gymnasium', 'Lift Available',\n",
    "    'CarParking', '24x7 Security', 'Swimming Pool', 'Intercom',\n",
    "    'price_per_sqft'\n",
    "] + [col for col in df.columns if col.startswith('location_')]\n",
    "\n",
    "X = df[features]\n",
    "y = np.log1p(df['price'])\n"
   ]
  },
  {
   "cell_type": "code",
   "execution_count": 24,
   "id": "b7a480ea",
   "metadata": {},
   "outputs": [
    {
     "name": "stdout",
     "output_type": "stream",
     "text": [
      "R² Score: 0.962\n",
      "RMSE: ₹3,459,840\n",
      "MAE: ₹468,116\n"
     ]
    }
   ],
   "source": [
    "\n",
    "from sklearn.model_selection import train_test_split\n",
    "from xgboost import XGBRegressor\n",
    "from sklearn.metrics import r2_score, mean_squared_error, mean_absolute_error\n",
    "import numpy as np\n",
    "\n",
    "X_train, X_test, y_train, y_test = train_test_split(X, y, test_size=0.2, random_state=42)\n",
    "\n",
    "model = XGBRegressor(n_estimators=200, learning_rate=0.1, max_depth=6, random_state=42)\n",
    "model.fit(X_train, y_train)\n",
    "\n",
    "y_pred_log = model.predict(X_test)\n",
    "y_pred = np.expm1(y_pred_log)\n",
    "y_test_actual = np.expm1(y_test)\n",
    "\n",
    "r2 = r2_score(y_test_actual, y_pred)\n",
    "rmse = np.sqrt(mean_squared_error(y_test_actual, y_pred))\n",
    "mae = mean_absolute_error(y_test_actual, y_pred)\n",
    "\n",
    "print(f\"R² Score: {r2:.3f}\")\n",
    "print(f\"RMSE: ₹{rmse:,.0f}\")\n",
    "print(f\"MAE: ₹{mae:,.0f}\")\n"
   ]
  },
  {
   "cell_type": "code",
   "execution_count": 25,
   "id": "72e123ee",
   "metadata": {},
   "outputs": [],
   "source": [
    "import pickle\n",
    "\n",
    "pickle.dump(model, open('mumbai_price_model.pkl', 'wb'))\n",
    "pickle.dump(X.columns.tolist(), open('model_columns.pkl', 'wb'))\n"
   ]
  },
  {
   "cell_type": "code",
   "execution_count": null,
   "id": "3a1265a5",
   "metadata": {},
   "outputs": [],
   "source": []
  }
 ],
 "metadata": {
  "kernelspec": {
   "display_name": "Python 3",
   "language": "python",
   "name": "python3"
  },
  "language_info": {
   "codemirror_mode": {
    "name": "ipython",
    "version": 3
   },
   "file_extension": ".py",
   "mimetype": "text/x-python",
   "name": "python",
   "nbconvert_exporter": "python",
   "pygments_lexer": "ipython3",
   "version": "3.12.6"
  }
 },
 "nbformat": 4,
 "nbformat_minor": 5
}
